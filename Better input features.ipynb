{
 "cells": [
  {
   "cell_type": "markdown",
   "metadata": {},
   "source": [
    "# DTW alignment on the basis of energy\n",
    "\n",
    "(suggested by results from MFCC tests in vowel-discri git)."
   ]
  },
  {
   "cell_type": "code",
   "execution_count": null,
   "metadata": {
    "collapsed": true
   },
   "outputs": [],
   "source": [
    "%matplotlib inline\n",
    "\n",
    "# generic imports\n",
    "import numpy as np\n",
    "import os.path as path\n",
    "\n",
    "\n",
    "\n",
    "# for feature extraction/storage\n",
    "import soundfile\n",
    "import h5features\n",
    "\n",
    "\n",
    "\n",
    "# for result plots\n",
    "from scone_phobia import apply_analysis\n",
    "from scone_phobia.analyses.avg_error import avg_error\n",
    "import scone_phobia.metadata.add_metadata as add_metadata\n",
    "import matplotlib.pyplot as plt\n",
    "import seaborn as sns"
   ]
  },
  {
   "cell_type": "code",
   "execution_count": 2,
   "metadata": {
    "collapsed": true
   },
   "outputs": [],
   "source": [
    "%load_ext Cython"
   ]
  },
  {
   "cell_type": "code",
   "execution_count": null,
   "metadata": {
    "collapsed": true
   },
   "outputs": [],
   "source": [
    "# -*- coding: utf-8 -*-\n",
    "\"\"\"\n",
    "Created on Mon June 10 10:14:04 2019\n",
    "\n",
    "@author: Thomas Schatz\n",
    "Adapted from https://github.com/librosa\n",
    "\n",
    "Compute MFCC coefficients.\n",
    "\n",
    "Steps:\n",
    "    Waveform -> pre-emphasis -> STFT with Hanning window 25ms + 10ms -> 128 channels mel power-spectrogram\n",
    "    using area-normalized triangular filters over 0-8000Hz -> to DB (log-compression) -> type II DCT (PCA)\n",
    "    -> 13 coefficients -> replace 0-th order coefficient with log-energy or drop it (optional)\n",
    "    -> perform cepstral mean normalization (optional)\n",
    "\n",
    "Something we did not implement for now: use energy to replace first MFCC coefficient.\n",
    "\n",
    "Main differences with librosa default are:\n",
    "    - no padding of time-series to get first frame centered on t=0\n",
    "    - signal is pre-emphasized\n",
    "    - defaults: n_MFCC=13, sr=16000, n_fft=400, hop_length=160\n",
    "    - works from time-series only\n",
    "    - allows optional dropping or replacement with log-energy of zeroth-order MFCC coefficient\n",
    "    - allows optional cepstral mean normalization\n",
    "\n",
    "\n",
    "Requirements: librosa, numpy, scipy\n",
    "\n",
    "Usage:\n",
    "    import soundfile\n",
    "    y, fs = soundfile.read(filename)\n",
    "    assert fs == 16000\n",
    "    coefs = mfcc(y)\n",
    "    # coefs is a 13 by nb_frames numpy array of MFCCs\n",
    "\"\"\"\n",
    "\n",
    "import numpy as np\n",
    "import scipy.fftpack\n",
    "import scipy.signal as sig\n",
    "from librosa.core.spectrum import power_to_db, stft\n",
    "from librosa import filters\n",
    "\n",
    "\n",
    "def pre_emphasize(y):\n",
    "    b = [1, -.97]\n",
    "    a = 1\n",
    "    zi = sig.lfilter_zi(b, a)\n",
    "    return sig.lfilter(b, a, y, zi=zi)[0]\n",
    "\n",
    "\n",
    "def log_energy(y, n_fft=400, hop_length=160):\n",
    "    power_spectrum = np.abs(stft(y, n_fft=n_fft, hop_length=hop_length, center=False))**2\n",
    "    log_E = 10*np.log10(sum(power_spectrum))  # in dB\n",
    "    return log_E\n",
    "\n",
    "\n",
    "def melspectrogram(y=None, sr=16000, n_fft=400, hop_length=160,\n",
    "                   power=2.0, **kwargs):\n",
    "    \"\"\"Compute a mel-scaled spectrogram.\n",
    "\n",
    "    If a spectrogram input `S` is provided, then it is mapped directly onto\n",
    "    the mel basis `mel_f` by `mel_f.dot(S)`.\n",
    "\n",
    "    If a time-series input `y, sr` is provided, then its magnitude spectrogram\n",
    "    `S` is first computed, and then mapped onto the mel scale by\n",
    "    `mel_f.dot(S**power)`.  By default, `power=2` operates on a power spectrum.\n",
    "\n",
    "    Parameters\n",
    "    ----------\n",
    "    y : np.ndarray [shape=(n,)] or None\n",
    "        audio time-series\n",
    "\n",
    "    sr : number > 0 [scalar]\n",
    "        sampling rate of `y`\n",
    "\n",
    "    n_fft : int > 0 [scalar]\n",
    "        length of the FFT window\n",
    "\n",
    "    hop_length : int > 0 [scalar]\n",
    "        number of samples between successive frames.\n",
    "        See `librosa.core.stft`\n",
    "\n",
    "    power : float > 0 [scalar]\n",
    "        Exponent for the magnitude melspectrogram.\n",
    "        e.g., 1 for energy, 2 for power, etc.\n",
    "\n",
    "    kwargs : additional keyword arguments\n",
    "      Mel filter bank parameters.\n",
    "      See `librosa.filters.mel` for details.\n",
    "\n",
    "    Returns\n",
    "    -------\n",
    "    S : np.ndarray [shape=(n_mels, t)]\n",
    "        Mel spectrogram\n",
    "    \"\"\"\n",
    "    # Compute a magnitude spectrogram from input\n",
    "    S = np.abs(stft(y, n_fft=n_fft, hop_length=hop_length, center=False))**power\n",
    "\n",
    "    # Build a Mel filter\n",
    "    mel_basis = filters.mel(sr, n_fft, **kwargs)\n",
    "\n",
    "    return np.dot(mel_basis, S)\n",
    "\n",
    "\n",
    "def mfcc(y=None, sr=16000, n_mfcc=13, dct_type=2, norm='ortho', \n",
    "         zeroth_coef=None, cep_mean_norm=False, **kwargs):\n",
    "    \"\"\"Mel-frequency cepstral coefficients (MFCCs)\n",
    "\n",
    "    Parameters\n",
    "    ----------\n",
    "    y     : np.ndarray [shape=(n,)] or None\n",
    "        audio time series\n",
    "\n",
    "    sr    : number > 0 [scalar]\n",
    "        sampling rate of `y`\n",
    "\n",
    "    n_mfcc: int > 0 [scalar]\n",
    "        number of MFCCs to return\n",
    "\n",
    "    dct_type : None, or {1, 2, 3}\n",
    "        Discrete cosine transform (DCT) type.\n",
    "        By default, DCT type-2 is used.\n",
    "\n",
    "    norm : None or 'ortho'\n",
    "        If `dct_type` is `2 or 3`, setting `norm='ortho'` uses an ortho-normal\n",
    "        DCT basis.\n",
    "\n",
    "        Normalization is not supported for `dct_type=1`.\n",
    "\n",
    "    kwargs : additional keyword arguments\n",
    "        Arguments to `melspectrogram`, if operating\n",
    "        on time series input\n",
    "\n",
    "    Returns\n",
    "    -------\n",
    "    M     : np.ndarray [shape=(n_mfcc, t)]\n",
    "        MFCC sequence\n",
    "    \"\"\"\n",
    "\n",
    "    # pre-emphasize signal\n",
    "    y = pre_emphasize(y)\n",
    "\n",
    "    # compute mel-spectrogram\n",
    "    S = power_to_db(melspectrogram(y=y, sr=sr, **kwargs))\n",
    "\n",
    "    # compute MFCCs\n",
    "    coefs = scipy.fftpack.dct(S, axis=0, type=dct_type, norm=norm)[:n_mfcc]\n",
    "\n",
    "    if zeroth_coef == 'energy':\n",
    "        # replace 0th order MFCC coef with log energy\n",
    "        coefs[0, :] = log_energy(y)\n",
    "    elif zeroth_coef == 'remove':\n",
    "        coefs = coefs[1:, :]\n",
    "\n",
    "    if cep_mean_norm:\n",
    "        # do cepstral mean normalization\n",
    "        coefs = coefs - np.mean(coefs, axis=0)\n",
    "\n",
    "    return coefs\n"
   ]
  },
  {
   "cell_type": "code",
   "execution_count": null,
   "metadata": {
    "collapsed": true
   },
   "outputs": [],
   "source": [
    "def read_wav(wavefile, onset=None, offset=None):\n",
    "    data, fs = soundfile.read(wavefile)\n",
    "    if onset is None:\n",
    "        onset = 0\n",
    "    if offset is None:\n",
    "        offset = len(data)/float(fs)\n",
    "    times = 1/(2*float(fs)) + np.arange(len(data))/float(fs)\n",
    "    data = data[(times>=onset) & (times<=offset)]\n",
    "    return data, fs\n",
    "\n",
    "\n",
    "def extract_mfcc(wav_folder, segments_file, out_file, **kwargs):\n",
    "    segments = {}\n",
    "    with open(segments_file, 'r') as fh:\n",
    "        for line in fh:\n",
    "            seg, wav, onset, offset = line.strip().split()\n",
    "            onset, offset = float(onset), float(offset)\n",
    "            segments[seg] = wav, onset, offset\n",
    "    utts, feats, times = [], [], []\n",
    "    for i, seg in enumerate(segments):\n",
    "        if i % 100 == 0:\n",
    "            print(\"Done {} / {}\".format(i, len(segments)))\n",
    "        wav, onset, offset = segments[seg]\n",
    "        wavefile = path.join(wav_folder, wav)\n",
    "        data, fs = read_wav(wavefile, onset=onset, offset=offset)\n",
    "        assert fs == 16000\n",
    "        coefs = mfcc.mfcc(data, **kwargs)\n",
    "        feats.append(coefs.T)\n",
    "        utts.append(seg)\n",
    "        times.append(0.0125 + np.arange(coefs.shape[1])*0.01)\n",
    "    data = h5features.Data(utts, times, feats, check=True)\n",
    "    with h5features.Writer(out_file) as fh:\n",
    "        fh.write(data, '/features')"
   ]
  },
  {
   "cell_type": "code",
   "execution_count": null,
   "metadata": {
    "collapsed": true
   },
   "outputs": [],
   "source": [
    "data, fs = soundfile.read('./bras.wav')\n",
    "assert fs == 16000"
   ]
  },
  {
   "cell_type": "markdown",
   "metadata": {},
   "source": [
    "## Test ABX discriminability on WSJ corpus\n",
    "\n",
    "This requires some of the material from the \"Early phonetic learning without phonetic categories\" paper.\n",
    "\n",
    "\n",
    "### First extract features of interest and store them in h5features format to allow testing ABX phone discriminability."
   ]
  },
  {
   "cell_type": "code",
   "execution_count": null,
   "metadata": {
    "collapsed": true
   },
   "outputs": [],
   "source": [
    "conditions = [('energy', True),  ('energy', False),\n",
    "              ('remove', False), ('remove', True),\n",
    "              (None, False), (None, True)]\n",
    "root = '/Users/admin/Documents/PhD/Data/GPJ_match_WSJ_test/'\n",
    "for zeroth, norm in conditions[1:]:\n",
    "    print(zeroth)\n",
    "    print(norm)\n",
    "    data = extract_mfcc(root + 'wavs/',\n",
    "                        root + 'segments.txt',\n",
    "                        root + 'mfcc/mfcc_{}_{}.features'.format(zeroth, norm),\n",
    "                        zeroth_coef=zeroth, cep_mean_norm=norm)"
   ]
  },
  {
   "cell_type": "markdown",
   "metadata": {},
   "source": [
    "## 2. Run WSJ discrimination on features (done on a remote cluster)"
   ]
  },
  {
   "cell_type": "markdown",
   "metadata": {},
   "source": [
    "## 3. Plot results"
   ]
  },
  {
   "cell_type": "code",
   "execution_count": null,
   "metadata": {
    "collapsed": true
   },
   "outputs": [],
   "source": [
    "# Loading (or computing if it's the first time) avg_error analysis results with full resamples\n",
    "\n",
    "mp_folder = '/Users/admin/Documents/PhD/Data/vowel_discri/mp_scores'\n",
    "\n",
    "analysis = avg_error\n",
    "df_avg = apply_analysis(analysis, mp_folder,\n",
    "                        add_metadata=add_metadata.language_register,\n",
    "                        resampling=False)"
   ]
  },
  {
   "cell_type": "code",
   "execution_count": null,
   "metadata": {
    "collapsed": true
   },
   "outputs": [],
   "source": [
    "sns.catplot(data=df_avg, kind='bar', y='error', hue='model type', x='contrast type')"
   ]
  },
  {
   "cell_type": "markdown",
   "metadata": {},
   "source": [
    "Conclusion: for within-speaker phone discrimination:\n",
    "    - cepstral mean normalization does not have much effect overall (tends to make consonant a bit harder to discriminate and vowel a bit easier) -> do not do it\n",
    "    - log-energy: big effect unscaled zeroth-order MFCC appears best????\n",
    "        - Does this have to do with DTW aligning signal based on energy profile due to scale unbalance???\n",
    "            -> how come there is this unbalance in the first place, isn't this supposed to be a PCA?\n",
    "                -> maybe log-energy synchronization (DTW or otherwise) + cosine distance on aligned signals without the energy would work very well? (or more generally on signal deconvoluted from pitch+prosody contours)\n",
    "   \n",
    "    - Short-term: take normalized DTW with basic MFCC (no log energy or removing of first coefficient) and no cepstral mean normalization. "
   ]
  },
  {
   "cell_type": "code",
   "execution_count": null,
   "metadata": {
    "collapsed": true
   },
   "outputs": [],
   "source": []
  }
 ],
 "metadata": {
  "kernelspec": {
   "display_name": "Python 3",
   "language": "python",
   "name": "python3"
  },
  "language_info": {
   "codemirror_mode": {
    "name": "ipython",
    "version": 3
   },
   "file_extension": ".py",
   "mimetype": "text/x-python",
   "name": "python",
   "nbconvert_exporter": "python",
   "pygments_lexer": "ipython3",
   "version": "3.5.6"
  }
 },
 "nbformat": 4,
 "nbformat_minor": 0
}
