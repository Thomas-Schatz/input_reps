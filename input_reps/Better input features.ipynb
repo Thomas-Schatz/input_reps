{
 "cells": [
  {
   "cell_type": "markdown",
   "metadata": {},
   "source": [
    "# DTW alignment on the basis of energy\n",
    "\n",
    "(suggested by results from MFCC tests in vowel-discri git)."
   ]
  },
  {
   "cell_type": "code",
   "execution_count": 1,
   "metadata": {
    "collapsed": false
   },
   "outputs": [
    {
     "name": "stderr",
     "output_type": "stream",
     "text": [
      "/Users/admin/anaconda/lib/python3.5/site-packages/numba/errors.py:131: UserWarning: Insufficiently recent colorama version found. Numba requires colorama >= 0.3.9\n",
      "  warnings.warn(msg)\n"
     ]
    }
   ],
   "source": [
    "%matplotlib inline\n",
    "\n",
    "# generic imports\n",
    "import numpy as np\n",
    "import os.path as path\n",
    "\n",
    "# for feature extraction/storage\n",
    "import soundfile\n",
    "import librosa\n",
    "import h5features\n",
    "import reps\n",
    "import dtw\n",
    "import cosine\n",
    "import scipy.spatial.distance as dis\n",
    "\n",
    "# results analysis / plots\n",
    "from scone_phobia import apply_analysis\n",
    "from scone_phobia.analyses.avg_error import avg_error\n",
    "import scone_phobia.metadata.add_metadata as add_metadata\n",
    "import matplotlib.pyplot as plt\n",
    "import seaborn as sns"
   ]
  },
  {
   "cell_type": "code",
   "execution_count": 2,
   "metadata": {
    "collapsed": true
   },
   "outputs": [],
   "source": [
    "def read_wav(wavefile, onset=None, offset=None):\n",
    "    data, fs = soundfile.read(wavefile)\n",
    "    assert fs==16000\n",
    "    if onset is None:\n",
    "        onset = 0\n",
    "    if offset is None:\n",
    "        offset = len(data)/float(fs)\n",
    "    times = 1/(2*float(fs)) + np.arange(len(data))/float(fs)\n",
    "    data = data[(times>=onset) & (times<=offset)]\n",
    "    return data, fs\n",
    "\n",
    "\n",
    "def extract_mfcc(wav_folder, segments_file, out_file, **kwargs):\n",
    "    segments = {}\n",
    "    with open(segments_file, 'r') as fh:\n",
    "        for line in fh:\n",
    "            seg, wav, onset, offset = line.strip().split()\n",
    "            onset, offset = float(onset), float(offset)\n",
    "            segments[seg] = wav, onset, offset\n",
    "    utts, feats, times = [], [], []\n",
    "    for i, seg in enumerate(segments):\n",
    "        if i % 100 == 0:\n",
    "            print(\"Done {} / {}\".format(i, len(segments)))\n",
    "        wav, onset, offset = segments[seg]\n",
    "        wavefile = path.join(wav_folder, wav)\n",
    "        data, fs = read_wav(wavefile, onset=onset, offset=offset)\n",
    "        assert fs == 16000\n",
    "        coefs = reps.mfcc(data, **kwargs)\n",
    "        feats.append(coefs.T)\n",
    "        utts.append(seg)\n",
    "        times.append(0.0125 + np.arange(coefs.shape[1])*0.01)\n",
    "    data = h5features.Data(utts, times, feats, check=True)\n",
    "    with h5features.Writer(out_file) as fh:\n",
    "        fh.write(data, '/features')"
   ]
  },
  {
   "cell_type": "markdown",
   "metadata": {},
   "source": [
    "## Qualitative tests"
   ]
  },
  {
   "cell_type": "markdown",
   "metadata": {},
   "source": [
    "### Input features"
   ]
  },
  {
   "cell_type": "code",
   "execution_count": 3,
   "metadata": {
    "collapsed": false
   },
   "outputs": [],
   "source": [
    "data, fs = librosa.load('../test/bras.wav', sr=16000)"
   ]
  },
  {
   "cell_type": "code",
   "execution_count": 4,
   "metadata": {
    "collapsed": false
   },
   "outputs": [
    {
     "data": {
      "text/plain": [
       "<matplotlib.axes._subplots.AxesSubplot at 0x12a01f9e8>"
      ]
     },
     "execution_count": 4,
     "metadata": {},
     "output_type": "execute_result"
    },
    {
     "data": {
      "image/png": "[encoded data removed]",
      "text/plain": [
       "<Figure size 600x400 with 2 Axes>"
      ]
     },
     "metadata": {},
     "output_type": "display_data"
    }
   ],
   "source": [
    "coefs = reps.mfcc(data, zeroth_coef='concatenate logE')\n",
    "sns.heatmap(coefs[:, :])"
   ]
  },
  {
   "cell_type": "code",
   "execution_count": 5,
   "metadata": {
    "collapsed": false
   },
   "outputs": [
    {
     "data": {
      "text/plain": [
       "<matplotlib.axes._subplots.AxesSubplot at 0x1349c28d0>"
      ]
     },
     "execution_count": 5,
     "metadata": {},
     "output_type": "execute_result"
    },
    {
     "data": {
      "image/png": "[encoded data removed]",
      "text/plain": [
       "<Figure size 600x400 with 1 Axes>"
      ]
     },
     "metadata": {},
     "output_type": "display_data"
    }
   ],
   "source": [
    "sns.lineplot(data=coefs[0,:])  # log-energy"
   ]
  },
  {
   "cell_type": "code",
   "execution_count": 6,
   "metadata": {
    "collapsed": false
   },
   "outputs": [
    {
     "data": {
      "text/plain": [
       "<matplotlib.axes._subplots.AxesSubplot at 0x134aa6f28>"
      ]
     },
     "execution_count": 6,
     "metadata": {},
     "output_type": "execute_result"
    },
    {
     "data": {
      "image/png": "[encoded data removed]",
      "text/plain": [
       "<Figure size 600x400 with 1 Axes>"
      ]
     },
     "metadata": {},
     "output_type": "display_data"
    }
   ],
   "source": [
    "sns.lineplot(data=coefs[1,:])  # mfcc 0"
   ]
  },
  {
   "cell_type": "code",
   "execution_count": 7,
   "metadata": {
    "collapsed": false
   },
   "outputs": [
    {
     "data": {
      "text/plain": [
       "<matplotlib.axes._subplots.AxesSubplot at 0x129980780>"
      ]
     },
     "execution_count": 7,
     "metadata": {},
     "output_type": "execute_result"
    },
    {
     "data": {
      "image/png": "[encoded data removed]",
      "text/plain": [
       "<Figure size 600x400 with 1 Axes>"
      ]
     },
     "metadata": {},
     "output_type": "display_data"
    }
   ],
   "source": [
    "sns.lineplot(data=coefs[2,:])  # mfcc 1"
   ]
  },
  {
   "cell_type": "code",
   "execution_count": 8,
   "metadata": {
    "collapsed": false
   },
   "outputs": [
    {
     "data": {
      "text/plain": [
       "<matplotlib.axes._subplots.AxesSubplot at 0x134bdcb70>"
      ]
     },
     "execution_count": 8,
     "metadata": {},
     "output_type": "execute_result"
    },
    {
     "data": {
      "image/png": "[encoded data removed]",
      "text/plain": [
       "<Figure size 600x400 with 2 Axes>"
      ]
     },
     "metadata": {},
     "output_type": "display_data"
    }
   ],
   "source": [
    "coefs = reps.mfcc(data, zeroth_coef='replace 0 with logE')\n",
    "sns.heatmap(coefs[:, :])"
   ]
  },
  {
   "cell_type": "code",
   "execution_count": 9,
   "metadata": {
    "collapsed": false
   },
   "outputs": [
    {
     "data": {
      "text/plain": [
       "<matplotlib.axes._subplots.AxesSubplot at 0x134cac2b0>"
      ]
     },
     "execution_count": 9,
     "metadata": {},
     "output_type": "execute_result"
    },
    {
     "data": {
      "image/png": "[encoded data removed]",
      "text/plain": [
       "<Figure size 600x400 with 2 Axes>"
      ]
     },
     "metadata": {},
     "output_type": "display_data"
    }
   ],
   "source": [
    "coefs = reps.mfcc(data, zeroth_coef='remove 0')\n",
    "sns.heatmap(coefs[:, :])"
   ]
  },
  {
   "cell_type": "code",
   "execution_count": 10,
   "metadata": {
    "collapsed": false
   },
   "outputs": [
    {
     "data": {
      "text/plain": [
       "<matplotlib.axes._subplots.AxesSubplot at 0x134bdc710>"
      ]
     },
     "execution_count": 10,
     "metadata": {},
     "output_type": "execute_result"
    },
    {
     "data": {
      "image/png": "[encoded data removed]",
      "text/plain": [
       "<Figure size 600x400 with 2 Axes>"
      ]
     },
     "metadata": {},
     "output_type": "display_data"
    }
   ],
   "source": [
    "coefs = reps.mfcc(data, zeroth_coef='duplicate 0')\n",
    "sns.heatmap(coefs[:, :])"
   ]
  },
  {
   "cell_type": "code",
   "execution_count": 11,
   "metadata": {
    "collapsed": false
   },
   "outputs": [
    {
     "data": {
      "text/plain": [
       "<matplotlib.axes._subplots.AxesSubplot at 0x134cad5c0>"
      ]
     },
     "execution_count": 11,
     "metadata": {},
     "output_type": "execute_result"
    },
    {
     "data": {
      "image/png": "[encoded data removed]",
      "text/plain": [
       "<Figure size 600x400 with 2 Axes>"
      ]
     },
     "metadata": {},
     "output_type": "display_data"
    }
   ],
   "source": [
    "coefs = reps.mfcc(data)\n",
    "sns.heatmap(coefs[:, :])"
   ]
  },
  {
   "cell_type": "markdown",
   "metadata": {},
   "source": [
    "#### Dissimilarity functions"
   ]
  },
  {
   "cell_type": "code",
   "execution_count": 3,
   "metadata": {
    "collapsed": false
   },
   "outputs": [],
   "source": [
    "# Get some interesting waveforms to align from WSJ:\n",
    "data1, fs = librosa.load('../test/amendment_WSJ_1.wav', sr=16000)\n",
    "data2, fs = librosa.load('../test/amendment_WSJ_2.wav', sr=16000)\n",
    "coefs1 = reps.mfcc(data1)\n",
    "coefs2 = reps.mfcc(data2)"
   ]
  },
  {
   "cell_type": "code",
   "execution_count": 4,
   "metadata": {
    "collapsed": false
   },
   "outputs": [
    {
     "data": {
      "text/plain": [
       "<matplotlib.axes._subplots.AxesSubplot at 0x1207b24e0>"
      ]
     },
     "execution_count": 4,
     "metadata": {},
     "output_type": "execute_result"
    },
    {
     "data": {
      "image/png": "[encoded data removed]",
      "text/plain": [
       "<Figure size 600x400 with 2 Axes>"
      ]
     },
     "metadata": {},
     "output_type": "display_data"
    }
   ],
   "source": [
    "sns.heatmap(coefs1[:, :])"
   ]
  },
  {
   "cell_type": "code",
   "execution_count": 5,
   "metadata": {
    "collapsed": false
   },
   "outputs": [
    {
     "data": {
      "text/plain": [
       "<matplotlib.axes._subplots.AxesSubplot at 0x120863400>"
      ]
     },
     "execution_count": 5,
     "metadata": {},
     "output_type": "execute_result"
    },
    {
     "data": {
      "image/png": "[encoded data removed]",
      "text/plain": [
       "<Figure size 600x400 with 2 Axes>"
      ]
     },
     "metadata": {},
     "output_type": "display_data"
    }
   ],
   "source": [
    "sns.heatmap(coefs2[:, :])"
   ]
  },
  {
   "cell_type": "code",
   "execution_count": 18,
   "metadata": {
    "collapsed": true
   },
   "outputs": [],
   "source": [
    "def alignment_then_diss(x1, x2, y1, y2, metric1, metric2, normalized=True):\n",
    "    \"\"\"\n",
    "    Align x1, y1 with DTW based on metric1 and get distance\n",
    "    using metric2 on x2, y2 along alignment path.\n",
    "    \n",
    "        - metric1: returns matrix of distances for all pairs of x1, y1 frames\n",
    "        - metric2: returns vector of distances for matched pairs of same length\n",
    "           arrays obtained by aligning x2 and y2\n",
    "    \"\"\"\n",
    "    _, path = dtw.dtw(x1, y1, metric1, return_path=True)\n",
    "    x = x2[path[:, 0], :]\n",
    "    y = y2[path[:, 1], :]\n",
    "    d = metric2(x, y)\n",
    "    if normalized:\n",
    "        return np.mean(d)\n",
    "    else:\n",
    "        return np.sum(d)\n",
    "    \n",
    "\n",
    "def dtw_on_logE(x, y, normalized, cosine_type='angular'):\n",
    "    \"\"\"\n",
    "    x: [n_x, d] array\n",
    "    y: [n_y, d] array\n",
    "\n",
    "    This assumes the signal log-energy can be found on the first feature coordinate.\n",
    "    \"\"\"\n",
    "    metric1 = lambda x, y: dis.cdist(x, y, 'euclidean')  # cosine on 1D data does not make sense\n",
    "    if cosine_type == 'angular':\n",
    "        metric2 = cosine.matched_angular\n",
    "    elif cosine_type == 'cosine':\n",
    "        metric2 = cosine.matched_cosine\n",
    "    else:\n",
    "        raise ValueError('Unsupported cosine_type value: {}'.format(cosine_type))\n",
    "    return alignment_then_diss(x[:, :1], x[:, 1:], y[:, :1], y[:, 1:],\n",
    "                               metric1, metric2, normalized=normalized)"
   ]
  },
  {
   "cell_type": "code",
   "execution_count": 31,
   "metadata": {
    "collapsed": false
   },
   "outputs": [
    {
     "data": {
      "text/plain": [
       "0.7655330269508713"
      ]
     },
     "execution_count": 31,
     "metadata": {},
     "output_type": "execute_result"
    }
   ],
   "source": [
    "dtw_on_logE(coefs1[:,:60].T, coefs2[:,:50].T, normalized=True)"
   ]
  },
  {
   "cell_type": "code",
   "execution_count": 32,
   "metadata": {
    "collapsed": false
   },
   "outputs": [
    {
     "data": {
      "text/plain": [
       "0.9268190502775876"
      ]
     },
     "execution_count": 32,
     "metadata": {},
     "output_type": "execute_result"
    }
   ],
   "source": [
    "dtw_on_logE(coefs1[:,-60:].T, coefs2[:,-50:].T, normalized=True)"
   ]
  },
  {
   "cell_type": "markdown",
   "metadata": {},
   "source": [
    "## Test ABX discriminability on WSJ corpus\n",
    "\n",
    "This requires some of the material from the \"Early phonetic learning without phonetic categories\" paper.\n",
    "\n",
    "\n",
    "### First extract features of interest and store them in h5features format to allow testing ABX phone discriminability."
   ]
  },
  {
   "cell_type": "code",
   "execution_count": 14,
   "metadata": {
    "collapsed": false
   },
   "outputs": [
    {
     "name": "stdout",
     "output_type": "stream",
     "text": [
      "Done 0 / 4871\n",
      "Done 100 / 4871\n",
      "Done 200 / 4871\n",
      "Done 300 / 4871\n",
      "Done 400 / 4871\n",
      "Done 500 / 4871\n",
      "Done 600 / 4871\n",
      "Done 700 / 4871\n",
      "Done 800 / 4871\n",
      "Done 900 / 4871\n",
      "Done 1000 / 4871\n",
      "Done 1100 / 4871\n",
      "Done 1200 / 4871\n",
      "Done 1300 / 4871\n",
      "Done 1400 / 4871\n",
      "Done 1500 / 4871\n",
      "Done 1600 / 4871\n",
      "Done 1700 / 4871\n",
      "Done 1800 / 4871\n",
      "Done 1900 / 4871\n",
      "Done 2000 / 4871\n",
      "Done 2100 / 4871\n",
      "Done 2200 / 4871\n",
      "Done 2300 / 4871\n",
      "Done 2400 / 4871\n",
      "Done 2500 / 4871\n",
      "Done 2600 / 4871\n",
      "Done 2700 / 4871\n",
      "Done 2800 / 4871\n",
      "Done 2900 / 4871\n",
      "Done 3000 / 4871\n",
      "Done 3100 / 4871\n",
      "Done 3200 / 4871\n",
      "Done 3300 / 4871\n",
      "Done 3400 / 4871\n",
      "Done 3500 / 4871\n",
      "Done 3600 / 4871\n",
      "Done 3700 / 4871\n",
      "Done 3800 / 4871\n",
      "Done 3900 / 4871\n",
      "Done 4000 / 4871\n",
      "Done 4100 / 4871\n",
      "Done 4200 / 4871\n",
      "Done 4300 / 4871\n",
      "Done 4400 / 4871\n",
      "Done 4500 / 4871\n",
      "Done 4600 / 4871\n",
      "Done 4700 / 4871\n",
      "Done 4800 / 4871\n",
      "1\n",
      "Done 0 / 4871\n",
      "Done 100 / 4871\n",
      "Done 200 / 4871\n",
      "Done 300 / 4871\n",
      "Done 400 / 4871\n",
      "Done 500 / 4871\n",
      "Done 600 / 4871\n",
      "Done 700 / 4871\n",
      "Done 800 / 4871\n",
      "Done 900 / 4871\n",
      "Done 1000 / 4871\n",
      "Done 1100 / 4871\n",
      "Done 1200 / 4871\n",
      "Done 1300 / 4871\n",
      "Done 1400 / 4871\n",
      "Done 1500 / 4871\n",
      "Done 1600 / 4871\n",
      "Done 1700 / 4871\n",
      "Done 1800 / 4871\n",
      "Done 1900 / 4871\n",
      "Done 2000 / 4871\n",
      "Done 2100 / 4871\n",
      "Done 2200 / 4871\n",
      "Done 2300 / 4871\n",
      "Done 2400 / 4871\n",
      "Done 2500 / 4871\n",
      "Done 2600 / 4871\n",
      "Done 2700 / 4871\n",
      "Done 2800 / 4871\n",
      "Done 2900 / 4871\n",
      "Done 3000 / 4871\n",
      "Done 3100 / 4871\n",
      "Done 3200 / 4871\n",
      "Done 3300 / 4871\n",
      "Done 3400 / 4871\n",
      "Done 3500 / 4871\n",
      "Done 3600 / 4871\n",
      "Done 3700 / 4871\n",
      "Done 3800 / 4871\n",
      "Done 3900 / 4871\n",
      "Done 4000 / 4871\n",
      "Done 4100 / 4871\n",
      "Done 4200 / 4871\n",
      "Done 4300 / 4871\n",
      "Done 4400 / 4871\n",
      "Done 4500 / 4871\n",
      "Done 4600 / 4871\n",
      "Done 4700 / 4871\n",
      "Done 4800 / 4871\n",
      "2\n",
      "Done 0 / 4871\n",
      "Done 100 / 4871\n",
      "Done 200 / 4871\n",
      "Done 300 / 4871\n",
      "Done 400 / 4871\n",
      "Done 500 / 4871\n",
      "Done 600 / 4871\n",
      "Done 700 / 4871\n",
      "Done 800 / 4871\n",
      "Done 900 / 4871\n",
      "Done 1000 / 4871\n",
      "Done 1100 / 4871\n",
      "Done 1200 / 4871\n",
      "Done 1300 / 4871\n",
      "Done 1400 / 4871\n",
      "Done 1500 / 4871\n",
      "Done 1600 / 4871\n",
      "Done 1700 / 4871\n",
      "Done 1800 / 4871\n",
      "Done 1900 / 4871\n",
      "Done 2000 / 4871\n",
      "Done 2100 / 4871\n",
      "Done 2200 / 4871\n",
      "Done 2300 / 4871\n",
      "Done 2400 / 4871\n",
      "Done 2500 / 4871\n",
      "Done 2600 / 4871\n",
      "Done 2700 / 4871\n",
      "Done 2800 / 4871\n",
      "Done 2900 / 4871\n",
      "Done 3000 / 4871\n",
      "Done 3100 / 4871\n",
      "Done 3200 / 4871\n",
      "Done 3300 / 4871\n",
      "Done 3400 / 4871\n",
      "Done 3500 / 4871\n",
      "Done 3600 / 4871\n",
      "Done 3700 / 4871\n",
      "Done 3800 / 4871\n",
      "Done 3900 / 4871\n",
      "Done 4000 / 4871\n",
      "Done 4100 / 4871\n",
      "Done 4200 / 4871\n",
      "Done 4300 / 4871\n",
      "Done 4400 / 4871\n",
      "Done 4500 / 4871\n",
      "Done 4600 / 4871\n",
      "Done 4700 / 4871\n",
      "Done 4800 / 4871\n",
      "3\n",
      "Done 0 / 4871\n",
      "Done 100 / 4871\n",
      "Done 200 / 4871\n",
      "Done 300 / 4871\n",
      "Done 400 / 4871\n",
      "Done 500 / 4871\n",
      "Done 600 / 4871\n",
      "Done 700 / 4871\n",
      "Done 800 / 4871\n",
      "Done 900 / 4871\n",
      "Done 1000 / 4871\n",
      "Done 1100 / 4871\n",
      "Done 1200 / 4871\n",
      "Done 1300 / 4871\n",
      "Done 1400 / 4871\n",
      "Done 1500 / 4871\n",
      "Done 1600 / 4871\n",
      "Done 1700 / 4871\n",
      "Done 1800 / 4871\n",
      "Done 1900 / 4871\n",
      "Done 2000 / 4871\n",
      "Done 2100 / 4871\n",
      "Done 2200 / 4871\n",
      "Done 2300 / 4871\n",
      "Done 2400 / 4871\n",
      "Done 2500 / 4871\n",
      "Done 2600 / 4871\n",
      "Done 2700 / 4871\n",
      "Done 2800 / 4871\n",
      "Done 2900 / 4871\n",
      "Done 3000 / 4871\n",
      "Done 3100 / 4871\n",
      "Done 3200 / 4871\n",
      "Done 3300 / 4871\n",
      "Done 3400 / 4871\n",
      "Done 3500 / 4871\n",
      "Done 3600 / 4871\n",
      "Done 3700 / 4871\n",
      "Done 3800 / 4871\n",
      "Done 3900 / 4871\n",
      "Done 4000 / 4871\n",
      "Done 4100 / 4871\n",
      "Done 4200 / 4871\n",
      "Done 4300 / 4871\n",
      "Done 4400 / 4871\n",
      "Done 4500 / 4871\n",
      "Done 4600 / 4871\n",
      "Done 4700 / 4871\n",
      "Done 4800 / 4871\n",
      "4\n",
      "Done 0 / 4871\n",
      "Done 100 / 4871\n",
      "Done 200 / 4871\n",
      "Done 300 / 4871\n",
      "Done 400 / 4871\n",
      "Done 500 / 4871\n",
      "Done 600 / 4871\n",
      "Done 700 / 4871\n",
      "Done 800 / 4871\n",
      "Done 900 / 4871\n",
      "Done 1000 / 4871\n",
      "Done 1100 / 4871\n",
      "Done 1200 / 4871\n",
      "Done 1300 / 4871\n",
      "Done 1400 / 4871\n",
      "Done 1500 / 4871\n",
      "Done 1600 / 4871\n",
      "Done 1700 / 4871\n",
      "Done 1800 / 4871\n",
      "Done 1900 / 4871\n",
      "Done 2000 / 4871\n",
      "Done 2100 / 4871\n",
      "Done 2200 / 4871\n",
      "Done 2300 / 4871\n",
      "Done 2400 / 4871\n",
      "Done 2500 / 4871\n",
      "Done 2600 / 4871\n",
      "Done 2700 / 4871\n",
      "Done 2800 / 4871\n",
      "Done 2900 / 4871\n",
      "Done 3000 / 4871\n",
      "Done 3100 / 4871\n",
      "Done 3200 / 4871\n",
      "Done 3300 / 4871\n",
      "Done 3400 / 4871\n",
      "Done 3500 / 4871\n",
      "Done 3600 / 4871\n",
      "Done 3700 / 4871\n",
      "Done 3800 / 4871\n",
      "Done 3900 / 4871\n",
      "Done 4000 / 4871\n",
      "Done 4100 / 4871\n",
      "Done 4200 / 4871\n",
      "Done 4300 / 4871\n",
      "Done 4400 / 4871\n",
      "Done 4500 / 4871\n",
      "Done 4600 / 4871\n",
      "Done 4700 / 4871\n",
      "Done 4800 / 4871\n",
      "5\n"
     ]
    }
   ],
   "source": [
    "\"\"\"\n",
    "Conditions\n",
    "\n",
    "1-2. Basic MFCC with DTW-cosine vs angular\n",
    "3-4. Basic MFCC with zeroth-order coefficient replaced by log-E with DTW-cosine vs angular\n",
    "5-6. Basic MFCC without zeroth-order coefficient with DTW-cosine vs angular\n",
    "7-8. log-E alignments, followed by cosine on aligned MFCC with or without 0-th coef\n",
    "9-10. 0-th MFCC alignments, followed by cosine on aligned MFCC with or without 0-th coef\n",
    "\n",
    "Also try HTK vs Slaney style MFCC? And liftering?\n",
    "\"\"\"\n",
    "\n",
    "root = '/Users/admin/Documents/PhD/Data/GPJ_match_WSJ_test/'\n",
    "wav = root + 'wavs/'\n",
    "seg = root + 'segments.txt'\n",
    "out = root + 'logE_tests/mfcc_{}.features'\n",
    "extract_mfcc(wav, seg, out.format('basic'), zeroth_coef=None)\n",
    "print('1')\n",
    "extract_mfcc(wav, seg, out.format('0=logE'), zeroth_coef='replace 0 with logE')\n",
    "print('2')\n",
    "extract_mfcc(wav, seg, out.format('no-0'), zeroth_coef='remove 0')\n",
    "print('3')\n",
    "extract_mfcc(wav, seg, out.format('0+logE'), zeroth_coef='concatenate logE')\n",
    "print('4')\n",
    "extract_mfcc(wav, seg, out.format('0+0'), zeroth_coef='duplicate 0')\n",
    "print('5')"
   ]
  },
  {
   "cell_type": "markdown",
   "metadata": {},
   "source": [
    "## 2. Run WSJ discrimination on features (done on a remote cluster)"
   ]
  },
  {
   "cell_type": "markdown",
   "metadata": {},
   "source": [
    "## 3. Plot results"
   ]
  },
  {
   "cell_type": "code",
   "execution_count": null,
   "metadata": {
    "collapsed": true
   },
   "outputs": [],
   "source": [
    "# Loading (or computing if it's the first time) avg_error analysis results with full resamples\n",
    "\n",
    "mp_folder = '/Users/admin/Documents/PhD/Data/vowel_discri/mp_scores'\n",
    "\n",
    "analysis = avg_error\n",
    "df_avg = apply_analysis(analysis, mp_folder,\n",
    "                        add_metadata=add_metadata.language_register,\n",
    "                        resampling=False)"
   ]
  },
  {
   "cell_type": "code",
   "execution_count": null,
   "metadata": {
    "collapsed": true
   },
   "outputs": [],
   "source": [
    "sns.catplot(data=df_avg, kind='bar', y='error', hue='model type', x='contrast type')"
   ]
  },
  {
   "cell_type": "markdown",
   "metadata": {},
   "source": [
    "Conclusion: for within-speaker phone discrimination:\n",
    "    - cepstral mean normalization does not have much effect overall (tends to make consonant a bit harder to discriminate and vowel a bit easier) -> do not do it\n",
    "    - log-energy: big effect unscaled zeroth-order MFCC appears best????\n",
    "        - Does this have to do with DTW aligning signal based on energy profile due to scale unbalance???\n",
    "            -> how come there is this unbalance in the first place, isn't this supposed to be a PCA?\n",
    "                -> maybe log-energy synchronization (DTW or otherwise) + cosine distance on aligned signals without the energy would work very well? (or more generally on signal deconvoluted from pitch+prosody contours)\n",
    "   \n",
    "    - Short-term: take normalized DTW with basic MFCC (no log energy or removing of first coefficient) and no cepstral mean normalization. "
   ]
  },
  {
   "cell_type": "code",
   "execution_count": null,
   "metadata": {
    "collapsed": true
   },
   "outputs": [],
   "source": []
  }
 ],
 "metadata": {
  "kernelspec": {
   "display_name": "Python 3",
   "language": "python",
   "name": "python3"
  },
  "language_info": {
   "codemirror_mode": {
    "name": "ipython",
    "version": 3
   },
   "file_extension": ".py",
   "mimetype": "text/x-python",
   "name": "python",
   "nbconvert_exporter": "python",
   "pygments_lexer": "ipython3",
   "version": "3.5.6"
  }
 },
 "nbformat": 4,
 "nbformat_minor": 0
}
